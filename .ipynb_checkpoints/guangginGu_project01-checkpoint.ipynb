{
 "cells": [
  {
   "cell_type": "code",
   "execution_count": 2,
   "id": "de3a5272-fa77-47a4-b0cd-4dd8a3e44f47",
   "metadata": {},
   "outputs": [
    {
     "name": "stderr",
     "output_type": "stream",
     "text": [
      "C:\\Users\\sally\\AppData\\Local\\Temp\\ipykernel_9864\\2145623995.py:7: DtypeWarning: Columns (2) have mixed types. Specify dtype option on import or set low_memory=False.\n",
      "  df = pd.read_csv(file_path, encoding=\"utf-8\")  # 'utf-8' 인코딩 사용\n"
     ]
    },
    {
     "name": "stdout",
     "output_type": "stream",
     "text": [
      "                 상가업소번호       상호명  지점명 상권업종대분류코드 상권업종대분류명 상권업종중분류코드  \\\n",
      "0  MA0101202210A0093845     이상한스냅  NaN        M1    과학·기술      M113   \n",
      "1  MA010120220805430767       토끼정  NaN        I2       음식      I201   \n",
      "2  MA010120220805430797       가배차  NaN        I2       음식      I201   \n",
      "3  MA010120220805430812  비에이치씨항동점  NaN        I2       음식      I210   \n",
      "4  MA010120220805430834   무지개삼성약국  NaN        G2       소매      G215   \n",
      "\n",
      "    상권업종중분류명 상권업종소분류코드 상권업종소분류명 표준산업분류코드  ...                     건물관리번호  \\\n",
      "0      사진 촬영    M11301    사진촬영업   M73303  ...  1147010300100090004000001   \n",
      "1         한식    I20101   백반/한정식   I56111  ...  1150010500107740012000001   \n",
      "2         한식    I20101   백반/한정식   I56111  ...  1171010400101430002012823   \n",
      "3      기타 간이    I21006       치킨   I56193  ...  1153011200101000005000001   \n",
      "4  의약·화장품 소매    G21501       약국   G47811  ...  1168011400106840005002734   \n",
      "\n",
      "               건물명              도로명주소   구우편번호 신우편번호  동정보  층정보  호정보  \\\n",
      "0             백송주택  서울특별시 양천구 월정로 283  158822  7902  NaN  NaN  NaN   \n",
      "1            마커스빌딩  서울특별시 강서구 마곡동로 55  157805  7802  NaN    2  NaN   \n",
      "2           사이언스빌딩  서울특별시 송파구 가락로 209  138852  5663  NaN    1  NaN   \n",
      "3  항동중흥에스클래스베르데카운티  서울특별시 구로구 연동로 233  152140  8362  NaN    1  NaN   \n",
      "4             대훈빌딩   서울특별시 강남구 일원로 45  135516  6343  NaN  NaN  NaN   \n",
      "\n",
      "           경도         위도  \n",
      "0  126.828832  37.542117  \n",
      "1  126.833022  37.560053  \n",
      "2  127.116136  37.507170  \n",
      "3  126.820686  37.481640  \n",
      "4  127.081499  37.489893  \n",
      "\n",
      "[5 rows x 39 columns]\n"
     ]
    }
   ],
   "source": [
    "import pandas as pd\n",
    "\n",
    "# 파일 경로 설정 (백슬래시 대신 r'경로' 또는 슬래시 사용)\n",
    "file_path = r\"C:\\Users\\sally\\OneDrive\\바탕 화면\\25_1\\소상공인시장진흥공단_상가(상권)정보_서울_202409.csv\"\n",
    "\n",
    "# CSV 파일 읽기\n",
    "df = pd.read_csv(file_path, encoding=\"utf-8\")  # 'utf-8' 인코딩 사용\n",
    "\n",
    "# 데이터 확인\n",
    "print(df.head())  # 첫 5행 출력\n"
   ]
  },
  {
   "cell_type": "code",
   "execution_count": 8,
   "id": "640b637d-f3b0-48de-8180-a79b801f44b5",
   "metadata": {},
   "outputs": [
    {
     "name": "stdout",
     "output_type": "stream",
     "text": [
      "                   상가업소번호     상호명  지점명 상권업종대분류코드 상권업종대분류명 상권업종중분류코드  \\\n",
      "9    MA0101202210A0037544  영자's곱창  NaN        I2       음식      I201   \n",
      "21   MA010120220805431191  맑은에스테틱  NaN        S2    수리·개인      S208   \n",
      "66   MA010120220805433802    썬더치킨  NaN        I2       음식      I210   \n",
      "81   MA010120220805433097      더봄  NaN        S2    수리·개인      S207   \n",
      "186  MA010120220805437728     딘두오  NaN        G2       소매      G209   \n",
      "\n",
      "        상권업종중분류명 상권업종소분류코드  상권업종소분류명 표준산업분류코드  ...                     건물관리번호  \\\n",
      "9             한식    I20109  곱창 전골/구이   I56111  ...  1121510100101690021003140   \n",
      "21       욕탕·신체관리    S20802    마사지/안마   S96122  ...  1121510500100480053015378   \n",
      "66         기타 간이    I21006        치킨   I56193  ...  1121510900101490006018973   \n",
      "81         이용·미용    S20703       네일숍   S96119  ...  1121510900100480036000001   \n",
      "186  섬유·의복·신발 소매    G20908    가발 소매업   G47422  ...  1121510100106360013000002   \n",
      "\n",
      "     건물명                 도로명주소   구우편번호 신우편번호  동정보  층정보  호정보          경도  \\\n",
      "9    NaN     서울특별시 광진구 면목로 172  143900  4904  NaN    1  NaN  127.082832   \n",
      "21   NaN   서울특별시 광진구 뚝섬로32길 33  143843  5085  NaN    1  NaN  127.066814   \n",
      "66   NaN     서울특별시 광진구 군자로 127  143839  4999  NaN    1  NaN  127.073598   \n",
      "81   NaN       서울특별시 광진구 면목로 7  143837  4999  NaN    1  NaN  127.075155   \n",
      "186  NaN  서울특별시 광진구 천호대로103길 8  143912  4920  NaN  NaN  NaN  127.075429   \n",
      "\n",
      "            위도  \n",
      "9    37.568503  \n",
      "21   37.534047  \n",
      "66   37.553662  \n",
      "81   37.554936  \n",
      "186  37.559362  \n",
      "\n",
      "[5 rows x 39 columns]\n"
     ]
    }
   ],
   "source": [
    "guangginGu = df[df[\"도로명주소\"].str.contains(\"서울특별시 광진구\",na=False)]\n",
    "print(guangginGu.head())"
   ]
  },
  {
   "cell_type": "code",
   "execution_count": 12,
   "id": "01d169d6-c278-49b6-b083-34d9f6a4928c",
   "metadata": {},
   "outputs": [],
   "source": [
    "output_path = r\"C:\\Users\\sally\\OneDrive\\바탕 화면\\25_1\\광진구_상가정보.csv\"\n",
    "guangginGu.to_csv(output_path, index=False, encoding=\"utf-8\")"
   ]
  },
  {
   "cell_type": "code",
   "execution_count": 16,
   "id": "00ad36bc-c177-4102-8c57-5b425792f7be",
   "metadata": {},
   "outputs": [],
   "source": [
    "## 광진구 상가정보저장 완료"
   ]
  },
  {
   "cell_type": "code",
   "execution_count": 124,
   "id": "ecd1c4f1-0c5b-4893-9d1b-72b0294ff5eb",
   "metadata": {},
   "outputs": [
    {
     "name": "stdout",
     "output_type": "stream",
     "text": [
      "                 상가업소번호     상호명  지점명 상권업종대분류명     상권업종중분류명  상권업종소분류명  \\\n",
      "0  MA0101202210A0037544  영자's곱창  NaN       음식           한식  곱창 전골/구이   \n",
      "1  MA010120220805431191  맑은에스테틱  NaN    수리·개인      욕탕·신체관리    마사지/안마   \n",
      "2  MA010120220805433802    썬더치킨  NaN       음식        기타 간이        치킨   \n",
      "3  MA010120220805433097      더봄  NaN    수리·개인        이용·미용       네일숍   \n",
      "4  MA010120220805437728     딘두오  NaN       소매  섬유·의복·신발 소매    가발 소매업   \n",
      "\n",
      "                  도로명주소  \n",
      "0     서울특별시 광진구 면목로 172  \n",
      "1   서울특별시 광진구 뚝섬로32길 33  \n",
      "2     서울특별시 광진구 군자로 127  \n",
      "3       서울특별시 광진구 면목로 7  \n",
      "4  서울특별시 광진구 천호대로103길 8  \n"
     ]
    }
   ],
   "source": [
    "df = pd.read_csv(r\"C:\\Users\\sally\\OneDrive\\바탕 화면\\25_1\\광진구_상가정보.csv\",encoding = \"utf-8\")\n",
    "print(df.head())"
   ]
  },
  {
   "cell_type": "code",
   "execution_count": 126,
   "id": "1af223ac-b9bc-43c6-bb53-4cef84d8beac",
   "metadata": {},
   "outputs": [
    {
     "name": "stdout",
     "output_type": "stream",
     "text": [
      "Index(['상가업소번호', '상호명', '지점명', '상권업종대분류명', '상권업종중분류명', '상권업종소분류명', '도로명주소'], dtype='object')\n"
     ]
    }
   ],
   "source": [
    "print(df.columns)"
   ]
  },
  {
   "cell_type": "code",
   "execution_count": 34,
   "id": "4926ff81-dfd1-4cc9-bb26-c78f7877a1df",
   "metadata": {
    "scrolled": true
   },
   "outputs": [
    {
     "data": {
      "text/html": [
       "<div>\n",
       "<style scoped>\n",
       "    .dataframe tbody tr th:only-of-type {\n",
       "        vertical-align: middle;\n",
       "    }\n",
       "\n",
       "    .dataframe tbody tr th {\n",
       "        vertical-align: top;\n",
       "    }\n",
       "\n",
       "    .dataframe thead th {\n",
       "        text-align: right;\n",
       "    }\n",
       "</style>\n",
       "<table border=\"1\" class=\"dataframe\">\n",
       "  <thead>\n",
       "    <tr style=\"text-align: right;\">\n",
       "      <th></th>\n",
       "      <th>상가업소번호</th>\n",
       "      <th>상호명</th>\n",
       "      <th>지점명</th>\n",
       "      <th>상권업종대분류명</th>\n",
       "      <th>상권업종중분류명</th>\n",
       "      <th>상권업종소분류명</th>\n",
       "      <th>도로명주소</th>\n",
       "    </tr>\n",
       "  </thead>\n",
       "  <tbody>\n",
       "    <tr>\n",
       "      <th>15751</th>\n",
       "      <td>MA0101202406A0508197</td>\n",
       "      <td>광진출장홈케어</td>\n",
       "      <td>NaN</td>\n",
       "      <td>수리·개인</td>\n",
       "      <td>욕탕·신체관리</td>\n",
       "      <td>체형/비만 관리</td>\n",
       "      <td>서울특별시 광진구 긴고랑로14길 64</td>\n",
       "    </tr>\n",
       "    <tr>\n",
       "      <th>15752</th>\n",
       "      <td>MA0101202406A0439628</td>\n",
       "      <td>뚝섬로뚝섬유원지점</td>\n",
       "      <td>NaN</td>\n",
       "      <td>음식</td>\n",
       "      <td>한식</td>\n",
       "      <td>백반/한정식</td>\n",
       "      <td>서울특별시 광진구 뚝섬로 548</td>\n",
       "    </tr>\n",
       "    <tr>\n",
       "      <th>15753</th>\n",
       "      <td>MA0101202406A0500326</td>\n",
       "      <td>신전떡볶이</td>\n",
       "      <td>중곡점</td>\n",
       "      <td>음식</td>\n",
       "      <td>기타 간이</td>\n",
       "      <td>김밥/만두/분식</td>\n",
       "      <td>서울특별시 광진구 능동로 400</td>\n",
       "    </tr>\n",
       "    <tr>\n",
       "      <th>15754</th>\n",
       "      <td>MA0101202406A0503441</td>\n",
       "      <td>부동산프라임공인중개사사무소</td>\n",
       "      <td>NaN</td>\n",
       "      <td>부동산</td>\n",
       "      <td>부동산 서비스</td>\n",
       "      <td>부동산 중개/대리업</td>\n",
       "      <td>서울특별시 광진구 아차산로27길 14</td>\n",
       "    </tr>\n",
       "    <tr>\n",
       "      <th>15755</th>\n",
       "      <td>MA0101202406A0466458</td>\n",
       "      <td>농가통닭</td>\n",
       "      <td>NaN</td>\n",
       "      <td>음식</td>\n",
       "      <td>기타 간이</td>\n",
       "      <td>치킨</td>\n",
       "      <td>서울특별시 광진구 영화사로 5</td>\n",
       "    </tr>\n",
       "  </tbody>\n",
       "</table>\n",
       "</div>"
      ],
      "text/plain": [
       "                     상가업소번호             상호명  지점명 상권업종대분류명 상권업종중분류명  \\\n",
       "15751  MA0101202406A0508197         광진출장홈케어  NaN    수리·개인  욕탕·신체관리   \n",
       "15752  MA0101202406A0439628       뚝섬로뚝섬유원지점  NaN       음식       한식   \n",
       "15753  MA0101202406A0500326           신전떡볶이  중곡점       음식    기타 간이   \n",
       "15754  MA0101202406A0503441  부동산프라임공인중개사사무소  NaN      부동산  부동산 서비스   \n",
       "15755  MA0101202406A0466458            농가통닭  NaN       음식    기타 간이   \n",
       "\n",
       "         상권업종소분류명                 도로명주소  \n",
       "15751    체형/비만 관리  서울특별시 광진구 긴고랑로14길 64  \n",
       "15752      백반/한정식     서울특별시 광진구 뚝섬로 548  \n",
       "15753    김밥/만두/분식     서울특별시 광진구 능동로 400  \n",
       "15754  부동산 중개/대리업  서울특별시 광진구 아차산로27길 14  \n",
       "15755          치킨      서울특별시 광진구 영화사로 5  "
      ]
     },
     "execution_count": 34,
     "metadata": {},
     "output_type": "execute_result"
    }
   ],
   "source": [
    "selected_columns = [\n",
    "    \"상가업소번호\", \"상호명\", \"지점명\", \"상권업종대분류명\",\n",
    "    \"상권업종중분류명\", \"상권업종소분류명\", \"도로명주소\"\n",
    "]\n",
    "new_df = df[selected_columns]\n",
    "\n",
    "new_df.tail()"
   ]
  },
  {
   "cell_type": "code",
   "execution_count": 120,
   "id": "9817da55-9838-4525-81aa-a50e3b244c90",
   "metadata": {},
   "outputs": [],
   "source": [
    "output_path = r\"C:\\Users\\sally\\OneDrive\\바탕 화면\\25_1\\광진구_상가정보.csv\"\n",
    "new_df.to_csv(output_path, index=False, encoding=\"utf-8\")"
   ]
  },
  {
   "cell_type": "code",
   "execution_count": 46,
   "id": "2cc11e85-6777-4bf7-9d29-e79672583e2d",
   "metadata": {},
   "outputs": [
    {
     "name": "stdout",
     "output_type": "stream",
     "text": [
      "EUC-KR\n"
     ]
    }
   ],
   "source": [
    "import chardet\n",
    "\n",
    "file_path = r\"C:\\Users\\sally\\Downloads\\서울특별시 광진구_위생등급 업소_20250224.csv\"\n",
    "\n",
    "# 파일 인코딩 확인\n",
    "with open(file_path, \"rb\") as f:\n",
    "    result = chardet.detect(f.read(100000))  # 처음 100000 바이트만 분석\n",
    "    print(result[\"encoding\"])"
   ]
  },
  {
   "cell_type": "code",
   "execution_count": 50,
   "id": "a86db034-e90e-454c-8f3f-6bcae57024d1",
   "metadata": {},
   "outputs": [
    {
     "name": "stdout",
     "output_type": "stream",
     "text": [
      "      연번      지정기관        지정일자  지정등급             업소명      영업자명  \\\n",
      "182  183  식품의약품안전처  2023-06-07    우수        한결보쌈 건대점       김*지   \n",
      "183  184  식품의약품안전처  2023-11-29  매우우수             할리스   조* 외 1명   \n",
      "184  185  식품의약품안전처  2024-04-16  매우우수        할리스광나루역점       이*현   \n",
      "185  186  식품의약품안전처  2023-10-11    우수   호식이두마리치킨구의중앙점       최*휘   \n",
      "186  187  식품의약품안전처  2024-05-14  매우우수  홍대개미롯데백화점스타시티점  김*일 외 1명   \n",
      "\n",
      "                                        소재지(도로명)    업종명 법정동명(식품영업대장)  \n",
      "182  서울특별시 광진구 아차산로 345(1층 105호 자양동, 래미안프리미어팰리스)  일반음식점         자양동   \n",
      "183                      서울특별시 광진구 아차산로 235(화양동)  일반음식점         화양동   \n",
      "184     서울특별시 광진구 천호대로 808(제1202동 지하1층 101호 광장동)  휴게음식점         광장동   \n",
      "185                    서울특별시 광진구 자양로 243(1층 구의동)  일반음식점         구의동   \n",
      "186                    서울특별시 광진구 능동로 92(지1층 자양동)  일반음식점         자양동   \n"
     ]
    }
   ],
   "source": [
    "clean = pd.read_csv(r\"C:\\Users\\sally\\Downloads\\서울특별시 광진구_위생등급 업소_20250224.csv\",encoding=\"EUC-KR\")\n",
    "print(clean.tail())"
   ]
  },
  {
   "cell_type": "code",
   "execution_count": 130,
   "id": "2da85aaa-a6aa-4541-ae50-e2a0802ab73b",
   "metadata": {},
   "outputs": [],
   "source": [
    "selected_columns = [\n",
    "    \"지정기관\", \"지정일자\", \"지정등급\", \"업소명\", \"영업자명\", \"소재지(도로명)\", \"업종명\", \"법정동명(식품영업대장)\"]\n",
    "clean = clean[selected_columns]"
   ]
  },
  {
   "cell_type": "code",
   "execution_count": 138,
   "id": "93c54858-7e3f-43e6-9c11-ffe25b49e36a",
   "metadata": {},
   "outputs": [
    {
     "name": "stdout",
     "output_type": "stream",
     "text": [
      "Index(['지정기관', '지정일자', '지정등급', '업소명', '영업자명', '소재지(도로명)', '업종명',\n",
      "       '법정동명(식품영업대장)'],\n",
      "      dtype='object')\n"
     ]
    }
   ],
   "source": [
    "print(clean.columns)"
   ]
  },
  {
   "cell_type": "code",
   "execution_count": 140,
   "id": "6de8edab-9843-49f8-9a66-40bef3bea032",
   "metadata": {},
   "outputs": [],
   "source": [
    "output_path = r\"C:\\Users\\sally\\OneDrive\\바탕 화면\\25_1\\위생등급업소_전처리.csv\"\n",
    "clean.to_csv(output_path, index=False, encoding=\"utf-8\")"
   ]
  },
  {
   "cell_type": "code",
   "execution_count": 122,
   "id": "9bc0dbcd-6d72-44cb-9311-98be02469137",
   "metadata": {},
   "outputs": [
    {
     "data": {
      "text/html": [
       "<div>\n",
       "<style scoped>\n",
       "    .dataframe tbody tr th:only-of-type {\n",
       "        vertical-align: middle;\n",
       "    }\n",
       "\n",
       "    .dataframe tbody tr th {\n",
       "        vertical-align: top;\n",
       "    }\n",
       "\n",
       "    .dataframe thead th {\n",
       "        text-align: right;\n",
       "    }\n",
       "</style>\n",
       "<table border=\"1\" class=\"dataframe\">\n",
       "  <thead>\n",
       "    <tr style=\"text-align: right;\">\n",
       "      <th></th>\n",
       "      <th>상가업소번호</th>\n",
       "      <th>상호명</th>\n",
       "      <th>지점명</th>\n",
       "      <th>상권업종대분류명</th>\n",
       "      <th>상권업종중분류명</th>\n",
       "      <th>상권업종소분류명</th>\n",
       "      <th>도로명주소</th>\n",
       "    </tr>\n",
       "  </thead>\n",
       "  <tbody>\n",
       "    <tr>\n",
       "      <th>15751</th>\n",
       "      <td>MA0101202406A0508197</td>\n",
       "      <td>광진출장홈케어</td>\n",
       "      <td>NaN</td>\n",
       "      <td>수리·개인</td>\n",
       "      <td>욕탕·신체관리</td>\n",
       "      <td>체형/비만 관리</td>\n",
       "      <td>서울특별시 광진구 긴고랑로14길 64</td>\n",
       "    </tr>\n",
       "    <tr>\n",
       "      <th>15752</th>\n",
       "      <td>MA0101202406A0439628</td>\n",
       "      <td>뚝섬로뚝섬유원지점</td>\n",
       "      <td>NaN</td>\n",
       "      <td>음식</td>\n",
       "      <td>한식</td>\n",
       "      <td>백반/한정식</td>\n",
       "      <td>서울특별시 광진구 뚝섬로 548</td>\n",
       "    </tr>\n",
       "    <tr>\n",
       "      <th>15753</th>\n",
       "      <td>MA0101202406A0500326</td>\n",
       "      <td>신전떡볶이</td>\n",
       "      <td>중곡점</td>\n",
       "      <td>음식</td>\n",
       "      <td>기타 간이</td>\n",
       "      <td>김밥/만두/분식</td>\n",
       "      <td>서울특별시 광진구 능동로 400</td>\n",
       "    </tr>\n",
       "    <tr>\n",
       "      <th>15754</th>\n",
       "      <td>MA0101202406A0503441</td>\n",
       "      <td>부동산프라임공인중개사사무소</td>\n",
       "      <td>NaN</td>\n",
       "      <td>부동산</td>\n",
       "      <td>부동산 서비스</td>\n",
       "      <td>부동산 중개/대리업</td>\n",
       "      <td>서울특별시 광진구 아차산로27길 14</td>\n",
       "    </tr>\n",
       "    <tr>\n",
       "      <th>15755</th>\n",
       "      <td>MA0101202406A0466458</td>\n",
       "      <td>농가통닭</td>\n",
       "      <td>NaN</td>\n",
       "      <td>음식</td>\n",
       "      <td>기타 간이</td>\n",
       "      <td>치킨</td>\n",
       "      <td>서울특별시 광진구 영화사로 5</td>\n",
       "    </tr>\n",
       "  </tbody>\n",
       "</table>\n",
       "</div>"
      ],
      "text/plain": [
       "                     상가업소번호             상호명  지점명 상권업종대분류명 상권업종중분류명  \\\n",
       "15751  MA0101202406A0508197         광진출장홈케어  NaN    수리·개인  욕탕·신체관리   \n",
       "15752  MA0101202406A0439628       뚝섬로뚝섬유원지점  NaN       음식       한식   \n",
       "15753  MA0101202406A0500326           신전떡볶이  중곡점       음식    기타 간이   \n",
       "15754  MA0101202406A0503441  부동산프라임공인중개사사무소  NaN      부동산  부동산 서비스   \n",
       "15755  MA0101202406A0466458            농가통닭  NaN       음식    기타 간이   \n",
       "\n",
       "         상권업종소분류명                 도로명주소  \n",
       "15751    체형/비만 관리  서울특별시 광진구 긴고랑로14길 64  \n",
       "15752      백반/한정식     서울특별시 광진구 뚝섬로 548  \n",
       "15753    김밥/만두/분식     서울특별시 광진구 능동로 400  \n",
       "15754  부동산 중개/대리업  서울특별시 광진구 아차산로27길 14  \n",
       "15755          치킨      서울특별시 광진구 영화사로 5  "
      ]
     },
     "execution_count": 122,
     "metadata": {},
     "output_type": "execute_result"
    }
   ],
   "source": [
    "new_df.tail()"
   ]
  },
  {
   "cell_type": "code",
   "execution_count": 84,
   "id": "93f02afc-0842-40cf-8eeb-52775b631be1",
   "metadata": {},
   "outputs": [
    {
     "data": {
      "text/plain": [
       "15756"
      ]
     },
     "execution_count": 84,
     "metadata": {},
     "output_type": "execute_result"
    }
   ],
   "source": [
    "## sql 사용해보기\n",
    "import sqlite3\n",
    "\n",
    "conn = sqlite3.connect(\"guangginGu_data.db\")\n",
    "new_df.to_sql(\"stores\",conn,if_exists=\"replace\",index = False)"
   ]
  },
  {
   "cell_type": "code",
   "execution_count": 88,
   "id": "ca064ee9-4bad-4389-a6d5-d1825fd59bb1",
   "metadata": {},
   "outputs": [
    {
     "name": "stdout",
     "output_type": "stream",
     "text": [
      "                 상가업소번호          상호명   지점명 상권업종대분류명 상권업종중분류명 상권업종소분류명  \\\n",
      "0  MA010120220803809219  할리스커피테크노마트점  None       음식    비알코올        카페   \n",
      "1  MA010120220803832299          할리스  None       음식    비알코올        카페   \n",
      "2  MA0101202309A0038222      할리스강변역점  None       음식    비알코올        카페   \n",
      "\n",
      "                  도로명주소  \n",
      "0  서울특별시 광진구 광나루로56길 85  \n",
      "1    서울특별시 광진구 아차산로 235  \n",
      "2    서울특별시 광진구 구의강변로 64  \n"
     ]
    }
   ],
   "source": [
    "result = pd.read_sql(\"SELECT * FROM stores Where 상호명 like '할리스%'\",conn)\n",
    "print(result)"
   ]
  },
  {
   "cell_type": "code",
   "execution_count": 98,
   "id": "09549d55-e724-491c-95d4-3af6631792f9",
   "metadata": {},
   "outputs": [
    {
     "data": {
      "text/plain": [
       "187"
      ]
     },
     "execution_count": 98,
     "metadata": {},
     "output_type": "execute_result"
    }
   ],
   "source": [
    "#위생 등급 업\n",
    "clean.to_sql(\"cleanInfo\", conn,if_exists=\"replace\",index = False)"
   ]
  },
  {
   "cell_type": "code",
   "execution_count": 100,
   "id": "de7b02ea-d159-4e94-b554-50774ee0f2f7",
   "metadata": {},
   "outputs": [
    {
     "name": "stdout",
     "output_type": "stream",
     "text": [
      "       지정기관        지정일자  지정등급       업소명     영업자명  \\\n",
      "0  식품의약품안전처  2023-11-29  매우우수       할리스  조* 외 1명   \n",
      "1  식품의약품안전처  2024-04-16  매우우수  할리스광나루역점      이*현   \n",
      "\n",
      "                                   소재지(도로명)    업종명 법정동명(식품영업대장)  \n",
      "0                   서울특별시 광진구 아차산로 235(화양동)  일반음식점         화양동   \n",
      "1  서울특별시 광진구 천호대로 808(제1202동 지하1층 101호 광장동)  휴게음식점         광장동   \n"
     ]
    }
   ],
   "source": [
    "print(pd.read_sql(\"SELECT * FROM cleanInfo Where 업소명 like '할리스%'\",conn))"
   ]
  },
  {
   "cell_type": "code",
   "execution_count": 118,
   "id": "f25720da-4af7-4f75-bf98-8a5e742e76e2",
   "metadata": {},
   "outputs": [
    {
     "name": "stdout",
     "output_type": "stream",
     "text": [
      "   지정등급  count(지정등급)\n",
      "0  매우우수          158\n",
      "1    우수           23\n",
      "2    좋음            6\n"
     ]
    }
   ],
   "source": [
    "print(pd.read_sql(\"SELECT 지정등급, count(지정등급) FROM cleanInfo GROUP BY 지정등급\",conn))"
   ]
  }
 ],
 "metadata": {
  "kernelspec": {
   "display_name": "Python 3 (ipykernel)",
   "language": "python",
   "name": "python3"
  },
  "language_info": {
   "codemirror_mode": {
    "name": "ipython",
    "version": 3
   },
   "file_extension": ".py",
   "mimetype": "text/x-python",
   "name": "python",
   "nbconvert_exporter": "python",
   "pygments_lexer": "ipython3",
   "version": "3.12.4"
  }
 },
 "nbformat": 4,
 "nbformat_minor": 5
}
